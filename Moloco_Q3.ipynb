{
 "cells": [
  {
   "cell_type": "code",
   "execution_count": 1,
   "metadata": {},
   "outputs": [],
   "source": [
    "## Moloco SWE Q3 - Chirag Rao"
   ]
  },
  {
   "cell_type": "code",
   "execution_count": 16,
   "metadata": {},
   "outputs": [],
   "source": [
    "# Importing required packages\n",
    "\n",
    "import pandas as pd\n",
    "from collections import defaultdict, Counter"
   ]
  },
  {
   "cell_type": "code",
   "execution_count": 17,
   "metadata": {},
   "outputs": [
    {
     "data": {
      "text/html": [
       "<div>\n",
       "<style scoped>\n",
       "    .dataframe tbody tr th:only-of-type {\n",
       "        vertical-align: middle;\n",
       "    }\n",
       "\n",
       "    .dataframe tbody tr th {\n",
       "        vertical-align: top;\n",
       "    }\n",
       "\n",
       "    .dataframe thead th {\n",
       "        text-align: right;\n",
       "    }\n",
       "</style>\n",
       "<table border=\"1\" class=\"dataframe\">\n",
       "  <thead>\n",
       "    <tr style=\"text-align: right;\">\n",
       "      <th></th>\n",
       "      <th>ts</th>\n",
       "      <th>user_id</th>\n",
       "      <th>country_id</th>\n",
       "      <th>site_id</th>\n",
       "    </tr>\n",
       "  </thead>\n",
       "  <tbody>\n",
       "    <tr>\n",
       "      <th>0</th>\n",
       "      <td>2019-02-01 00:01:24</td>\n",
       "      <td>LC36FC</td>\n",
       "      <td>TL6</td>\n",
       "      <td>N0OTG</td>\n",
       "    </tr>\n",
       "    <tr>\n",
       "      <th>1</th>\n",
       "      <td>2019-02-01 00:10:19</td>\n",
       "      <td>LC39B6</td>\n",
       "      <td>TL6</td>\n",
       "      <td>N0OTG</td>\n",
       "    </tr>\n",
       "    <tr>\n",
       "      <th>2</th>\n",
       "      <td>2019-02-01 00:21:50</td>\n",
       "      <td>LC3500</td>\n",
       "      <td>TL6</td>\n",
       "      <td>N0OTG</td>\n",
       "    </tr>\n",
       "    <tr>\n",
       "      <th>3</th>\n",
       "      <td>2019-02-01 00:22:50</td>\n",
       "      <td>LC374F</td>\n",
       "      <td>TL6</td>\n",
       "      <td>N0OTG</td>\n",
       "    </tr>\n",
       "    <tr>\n",
       "      <th>4</th>\n",
       "      <td>2019-02-01 00:23:44</td>\n",
       "      <td>LCC1C3</td>\n",
       "      <td>TL6</td>\n",
       "      <td>QGO3G</td>\n",
       "    </tr>\n",
       "    <tr>\n",
       "      <th>5</th>\n",
       "      <td>2019-02-01 00:24:21</td>\n",
       "      <td>LC3E1D</td>\n",
       "      <td>HVQ</td>\n",
       "      <td>GVOFK</td>\n",
       "    </tr>\n",
       "    <tr>\n",
       "      <th>6</th>\n",
       "      <td>2019-02-01 00:25:29</td>\n",
       "      <td>LC3561</td>\n",
       "      <td>TL6</td>\n",
       "      <td>3POLC</td>\n",
       "    </tr>\n",
       "    <tr>\n",
       "      <th>7</th>\n",
       "      <td>2019-02-01 00:29:15</td>\n",
       "      <td>LC3A01</td>\n",
       "      <td>TL6</td>\n",
       "      <td>N0OTG</td>\n",
       "    </tr>\n",
       "    <tr>\n",
       "      <th>8</th>\n",
       "      <td>2019-02-01 00:32:43</td>\n",
       "      <td>LC36FC</td>\n",
       "      <td>TL6</td>\n",
       "      <td>N0OTG</td>\n",
       "    </tr>\n",
       "    <tr>\n",
       "      <th>9</th>\n",
       "      <td>2019-02-01 00:35:30</td>\n",
       "      <td>LC3D80</td>\n",
       "      <td>TL6</td>\n",
       "      <td>N0OTG</td>\n",
       "    </tr>\n",
       "  </tbody>\n",
       "</table>\n",
       "</div>"
      ],
      "text/plain": [
       "                    ts user_id country_id site_id\n",
       "0  2019-02-01 00:01:24  LC36FC        TL6   N0OTG\n",
       "1  2019-02-01 00:10:19  LC39B6        TL6   N0OTG\n",
       "2  2019-02-01 00:21:50  LC3500        TL6   N0OTG\n",
       "3  2019-02-01 00:22:50  LC374F        TL6   N0OTG\n",
       "4  2019-02-01 00:23:44  LCC1C3        TL6   QGO3G\n",
       "5  2019-02-01 00:24:21  LC3E1D        HVQ   GVOFK\n",
       "6  2019-02-01 00:25:29  LC3561        TL6   3POLC\n",
       "7  2019-02-01 00:29:15  LC3A01        TL6   N0OTG\n",
       "8  2019-02-01 00:32:43  LC36FC        TL6   N0OTG\n",
       "9  2019-02-01 00:35:30  LC3D80        TL6   N0OTG"
      ]
     },
     "execution_count": 17,
     "metadata": {},
     "output_type": "execute_result"
    }
   ],
   "source": [
    "dframe = pd.read_csv(\"SWE sample data - Q3 data.csv\")\n",
    "dframe[:10]"
   ]
  },
  {
   "cell_type": "code",
   "execution_count": 18,
   "metadata": {},
   "outputs": [],
   "source": [
    "# Question 1"
   ]
  },
  {
   "cell_type": "code",
   "execution_count": 19,
   "metadata": {},
   "outputs": [
    {
     "data": {
      "text/html": [
       "<div>\n",
       "<style scoped>\n",
       "    .dataframe tbody tr th:only-of-type {\n",
       "        vertical-align: middle;\n",
       "    }\n",
       "\n",
       "    .dataframe tbody tr th {\n",
       "        vertical-align: top;\n",
       "    }\n",
       "\n",
       "    .dataframe thead th {\n",
       "        text-align: right;\n",
       "    }\n",
       "</style>\n",
       "<table border=\"1\" class=\"dataframe\">\n",
       "  <thead>\n",
       "    <tr style=\"text-align: right;\">\n",
       "      <th></th>\n",
       "      <th>ts</th>\n",
       "      <th>user_id</th>\n",
       "      <th>country_id</th>\n",
       "      <th>site_id</th>\n",
       "    </tr>\n",
       "  </thead>\n",
       "  <tbody>\n",
       "    <tr>\n",
       "      <th>13</th>\n",
       "      <td>2019-02-01 00:47:58</td>\n",
       "      <td>LC3C22</td>\n",
       "      <td>BDV</td>\n",
       "      <td>N0OTG</td>\n",
       "    </tr>\n",
       "    <tr>\n",
       "      <th>32</th>\n",
       "      <td>2019-02-01 02:46:15</td>\n",
       "      <td>LC375A</td>\n",
       "      <td>BDV</td>\n",
       "      <td>5NPAU</td>\n",
       "    </tr>\n",
       "    <tr>\n",
       "      <th>87</th>\n",
       "      <td>2019-02-01 06:44:42</td>\n",
       "      <td>LC392E</td>\n",
       "      <td>BDV</td>\n",
       "      <td>N0OTG</td>\n",
       "    </tr>\n",
       "    <tr>\n",
       "      <th>88</th>\n",
       "      <td>2019-02-01 07:36:56</td>\n",
       "      <td>LC3FAE</td>\n",
       "      <td>BDV</td>\n",
       "      <td>5NPAU</td>\n",
       "    </tr>\n",
       "    <tr>\n",
       "      <th>94</th>\n",
       "      <td>2019-02-01 08:58:35</td>\n",
       "      <td>LC3AFF</td>\n",
       "      <td>BDV</td>\n",
       "      <td>3POLC</td>\n",
       "    </tr>\n",
       "  </tbody>\n",
       "</table>\n",
       "</div>"
      ],
      "text/plain": [
       "                     ts user_id country_id site_id\n",
       "13  2019-02-01 00:47:58  LC3C22        BDV   N0OTG\n",
       "32  2019-02-01 02:46:15  LC375A        BDV   5NPAU\n",
       "87  2019-02-01 06:44:42  LC392E        BDV   N0OTG\n",
       "88  2019-02-01 07:36:56  LC3FAE        BDV   5NPAU\n",
       "94  2019-02-01 08:58:35  LC3AFF        BDV   3POLC"
      ]
     },
     "execution_count": 19,
     "metadata": {},
     "output_type": "execute_result"
    }
   ],
   "source": [
    "dframe_bdv = dframe.loc[dframe['country_id'] == \"BDV\"]\n",
    "dframe_bdv.head()"
   ]
  },
  {
   "cell_type": "code",
   "execution_count": 20,
   "metadata": {},
   "outputs": [
    {
     "name": "stdout",
     "output_type": "stream",
     "text": [
      "The site_id that has the largest number of unique users and the number is: [['5NPAU'], 544]\n"
     ]
    }
   ],
   "source": [
    "temp_dict = defaultdict(set)\n",
    "result = [[], -1]\n",
    "\n",
    "for i in range(len(dframe_bdv)):\n",
    "    site = dframe_bdv.iloc[i][\"site_id\"]\n",
    "    user = dframe_bdv.iloc[i][\"user_id\"]\n",
    "    temp_dict[site].add(user)\n",
    "    if len(temp_dict[site]) > result[1]:\n",
    "        result = [[site], len(temp_dict[site])]\n",
    "    elif len(temp_dict[site]) == result[1]:\n",
    "        result[0].append(site)\n",
    "\n",
    "print(\"The site_id that has the largest number of unique users and the number is:\", result)"
   ]
  },
  {
   "cell_type": "code",
   "execution_count": 21,
   "metadata": {},
   "outputs": [],
   "source": [
    "## Question 2"
   ]
  },
  {
   "cell_type": "code",
   "execution_count": 22,
   "metadata": {},
   "outputs": [
    {
     "data": {
      "text/html": [
       "<div>\n",
       "<style scoped>\n",
       "    .dataframe tbody tr th:only-of-type {\n",
       "        vertical-align: middle;\n",
       "    }\n",
       "\n",
       "    .dataframe tbody tr th {\n",
       "        vertical-align: top;\n",
       "    }\n",
       "\n",
       "    .dataframe thead th {\n",
       "        text-align: right;\n",
       "    }\n",
       "</style>\n",
       "<table border=\"1\" class=\"dataframe\">\n",
       "  <thead>\n",
       "    <tr style=\"text-align: right;\">\n",
       "      <th></th>\n",
       "      <th>ts</th>\n",
       "      <th>user_id</th>\n",
       "      <th>country_id</th>\n",
       "      <th>site_id</th>\n",
       "    </tr>\n",
       "  </thead>\n",
       "  <tbody>\n",
       "    <tr>\n",
       "      <th>1049</th>\n",
       "      <td>2019-02-03 00:02:31</td>\n",
       "      <td>LC3C7E</td>\n",
       "      <td>TL6</td>\n",
       "      <td>3POLC</td>\n",
       "    </tr>\n",
       "    <tr>\n",
       "      <th>1050</th>\n",
       "      <td>2019-02-03 00:03:09</td>\n",
       "      <td>LC3C7E</td>\n",
       "      <td>TL6</td>\n",
       "      <td>3POLC</td>\n",
       "    </tr>\n",
       "    <tr>\n",
       "      <th>1051</th>\n",
       "      <td>2019-02-03 00:03:46</td>\n",
       "      <td>LC3C7E</td>\n",
       "      <td>TL6</td>\n",
       "      <td>3POLC</td>\n",
       "    </tr>\n",
       "    <tr>\n",
       "      <th>1052</th>\n",
       "      <td>2019-02-03 00:04:12</td>\n",
       "      <td>LC3C7E</td>\n",
       "      <td>TL6</td>\n",
       "      <td>3POLC</td>\n",
       "    </tr>\n",
       "    <tr>\n",
       "      <th>1053</th>\n",
       "      <td>2019-02-03 00:04:25</td>\n",
       "      <td>LC3C7E</td>\n",
       "      <td>TL6</td>\n",
       "      <td>3POLC</td>\n",
       "    </tr>\n",
       "  </tbody>\n",
       "</table>\n",
       "</div>"
      ],
      "text/plain": [
       "                       ts user_id country_id site_id\n",
       "1049  2019-02-03 00:02:31  LC3C7E        TL6   3POLC\n",
       "1050  2019-02-03 00:03:09  LC3C7E        TL6   3POLC\n",
       "1051  2019-02-03 00:03:46  LC3C7E        TL6   3POLC\n",
       "1052  2019-02-03 00:04:12  LC3C7E        TL6   3POLC\n",
       "1053  2019-02-03 00:04:25  LC3C7E        TL6   3POLC"
      ]
     },
     "execution_count": 22,
     "metadata": {},
     "output_type": "execute_result"
    }
   ],
   "source": [
    "dframe_bdv = dframe[(dframe['ts'] >= '2019-02-03 00:00:00') & (dframe['ts'] <= '2019-02-04 23:59:59')]\n",
    "dframe_bdv.head()"
   ]
  },
  {
   "cell_type": "code",
   "execution_count": 23,
   "metadata": {},
   "outputs": [],
   "source": [
    "temp_dict = defaultdict(lambda: Counter())\n",
    "result = defaultdict(dict)\n",
    "\n",
    "for i in range(len(dframe_bdv)):\n",
    "    user = dframe_bdv.iloc[i][\"user_id\"]\n",
    "    site = dframe_bdv.iloc[i][\"site_id\"]\n",
    "    temp_dict[user][site] += 1 \n",
    "    if temp_dict[user][site] > 10:\n",
    "        result[user][site] = temp_dict[user][site]"
   ]
  },
  {
   "cell_type": "code",
   "execution_count": 24,
   "metadata": {},
   "outputs": [
    {
     "name": "stdout",
     "output_type": "stream",
     "text": [
      "The 4 users and the sites they (each)visited more than 10 times are:\n"
     ]
    },
    {
     "data": {
      "text/plain": [
       "[['LC3C7E', {'3POLC': 15}],\n",
       " ['LC3A59', {'N0OTG': 26}],\n",
       " ['LC06C3', {'N0OTG': 25}],\n",
       " ['LC3C9D', {'N0OTG': 17}]]"
      ]
     },
     "execution_count": 24,
     "metadata": {},
     "output_type": "execute_result"
    }
   ],
   "source": [
    "print(\"The 4 users and the sites they (each)visited more than 10 times are:\")\n",
    "[[x,result[x]] for x in result]"
   ]
  },
  {
   "cell_type": "code",
   "execution_count": 25,
   "metadata": {},
   "outputs": [],
   "source": [
    "## Question 3"
   ]
  },
  {
   "cell_type": "code",
   "execution_count": 27,
   "metadata": {},
   "outputs": [
    {
     "name": "stdout",
     "output_type": "stream",
     "text": [
      "The unique number of users whose last visit was to that site are:\n",
      "[('5NPAU', 992), ('N0OTG', 561), ('QGO3G', 289)]\n"
     ]
    }
   ],
   "source": [
    "d = {}\n",
    "for i in range(len(dframe)):\n",
    "    user = dframe.iloc[i]['user_id']\n",
    "    site = dframe.iloc[i]['site_id']\n",
    "    ts = dframe.iloc[i]['ts']\n",
    "    \n",
    "    if user not in d:\n",
    "        d[user] = [ts,site]\n",
    "    if ts > d[user][0]:\n",
    "        d[user] = [ts,site]\n",
    "\n",
    "dd = defaultdict(int)\n",
    "for user in d:\n",
    "    site = d[user][1]\n",
    "    dd[site] += 1\n",
    "result = sorted([(res,dd[res]) for res in dd], key=lambda x:x[1], reverse=True)\n",
    "print(\"The unique number of users whose last visit was to that site are:\")\n",
    "print(result[:3])   "
   ]
  },
  {
   "cell_type": "code",
   "execution_count": 28,
   "metadata": {},
   "outputs": [],
   "source": [
    "## Question 4"
   ]
  },
  {
   "cell_type": "code",
   "execution_count": 29,
   "metadata": {},
   "outputs": [],
   "source": [
    "dframe_bdv = pd.DataFrame(dframe, columns=['ts','user_id','site_id'])\n",
    "#dframe_bdv.head()"
   ]
  },
  {
   "cell_type": "code",
   "execution_count": 31,
   "metadata": {},
   "outputs": [
    {
     "name": "stdout",
     "output_type": "stream",
     "text": [
      "The number of users whose first/last visits are to the same website are: \n",
      "1670\n"
     ]
    }
   ],
   "source": [
    "temp_dict = {}\n",
    "\n",
    "for i in range(len(dframe_bdv)): \n",
    "    user = dframe_bdv.iloc[i]['user_id']\n",
    "    site = dframe_bdv.iloc[i]['site_id']\n",
    "    ts = dframe_bdv.iloc[i]['ts']\n",
    "    if user not in temp_dict:\n",
    "        temp_dict[user] = [[ts,site], [ts,site]]\n",
    "    if ts > temp_dict[user][1][0]:\n",
    "        temp_dict[user][1] = [ts,site]\n",
    "    elif ts < temp_dict[user][0][0]:\n",
    "        temp_dict[user][0] = [ts,site]\n",
    "\n",
    "result = 0 \n",
    "for user in temp_dict:\n",
    "    if temp_dict[user][0][1] == temp_dict[user][1][1]:\n",
    "        result = result + 1\n",
    "\n",
    "print(\"The number of users whose first/last visits are to the same website are: \")\n",
    "print(result)\n",
    "    "
   ]
  },
  {
   "cell_type": "code",
   "execution_count": null,
   "metadata": {},
   "outputs": [],
   "source": []
  }
 ],
 "metadata": {
  "kernelspec": {
   "display_name": "Python 3",
   "language": "python",
   "name": "python3"
  },
  "language_info": {
   "codemirror_mode": {
    "name": "ipython",
    "version": 3
   },
   "file_extension": ".py",
   "mimetype": "text/x-python",
   "name": "python",
   "nbconvert_exporter": "python",
   "pygments_lexer": "ipython3",
   "version": "3.7.1"
  }
 },
 "nbformat": 4,
 "nbformat_minor": 2
}
